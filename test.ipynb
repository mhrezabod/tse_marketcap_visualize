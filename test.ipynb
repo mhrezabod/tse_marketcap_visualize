{
 "cells": [
  {
   "cell_type": "code",
   "execution_count": 47,
   "metadata": {},
   "outputs": [],
   "source": [
    "import requests\n",
    "import re\n",
    "\n",
    "def get_stock_ids():\n",
    "    url = \"http://old.tsetmc.com/tsev2/data/MarketWatchPlus.aspx\"\n",
    "    r = requests.get(url)\n",
    "    ids = set(re.findall(r\"\\d{15,20}\", r.text))\n",
    "    return list(ids)\n",
    "\n",
    "\n"
   ]
  },
  {
   "cell_type": "code",
   "execution_count": 48,
   "metadata": {},
   "outputs": [],
   "source": [
    "def get_stock_detail():\n",
    "    \"\"\"\n",
    "\n",
    "    \"\"\"\n",
    "    id_list = get_stock_ids()\n",
    "    list_of_stock =[]\n",
    "    print('first')\n",
    "    for stock_id in id_list:\n",
    "        url = f\"https://old.tsetmc.com/Loader.aspx?ParTree=151311&i={stock_id}\"\n",
    "        r = requests.get(url)\n",
    "        print('second')\n",
    "        try:\n",
    "            stock = {\n",
    "                \"code\": stock_id,\n",
    "            }\n",
    "        except IndexError:\n",
    "            return\n",
    "        try:\n",
    "            stock[\"name\"] = re.findall(r\"LVal18AFC='([\\D]*)',\", r.text)[0]\n",
    "        except:\n",
    "            return\n",
    "        print('1')\n",
    "        list_of_stock.append(stock)\n",
    "        print('2')\n",
    "\n",
    "    return list_of_stock\n"
   ]
  },
  {
   "cell_type": "code",
   "execution_count": 53,
   "metadata": {},
   "outputs": [
    {
     "ename": "TypeError",
     "evalue": "set expected at most 1 argument, got 2",
     "output_type": "error",
     "traceback": [
      "\u001b[0;31m---------------------------------------------------------------------------\u001b[0m",
      "\u001b[0;31mTypeError\u001b[0m                                 Traceback (most recent call last)",
      "Cell \u001b[0;32mIn[53], line 1\u001b[0m\n\u001b[0;32m----> 1\u001b[0m a \u001b[38;5;241m=\u001b[39m \u001b[38;5;28mset\u001b[39m({\u001b[38;5;124m\"\u001b[39m\u001b[38;5;124mname\u001b[39m\u001b[38;5;124m\"\u001b[39m:\u001b[38;5;241m2\u001b[39m, \u001b[38;5;124m\"\u001b[39m\u001b[38;5;124mcolor\u001b[39m\u001b[38;5;124m\"\u001b[39m:\u001b[38;5;241m3\u001b[39m},{\u001b[38;5;124m\"\u001b[39m\u001b[38;5;124mname\u001b[39m\u001b[38;5;124m\"\u001b[39m:\u001b[38;5;241m10\u001b[39m, \u001b[38;5;124m\"\u001b[39m\u001b[38;5;124mcolor\u001b[39m\u001b[38;5;124m\"\u001b[39m:\u001b[38;5;241m12\u001b[39m})\n",
      "\u001b[0;31mTypeError\u001b[0m: set expected at most 1 argument, got 2"
     ]
    }
   ],
   "source": [
    "a = set({\"name\":2, \"color\":3},{\"name\":10, \"color\":12})"
   ]
  },
  {
   "cell_type": "code",
   "execution_count": 52,
   "metadata": {},
   "outputs": [
    {
     "name": "stdout",
     "output_type": "stream",
     "text": [
      "2\n",
      "3\n",
      "10\n",
      "12\n"
     ]
    }
   ],
   "source": [
    "for i in a:\n",
    "    print(i['name'])\n",
    "    print(i['color'])"
   ]
  },
  {
   "cell_type": "code",
   "execution_count": null,
   "metadata": {},
   "outputs": [],
   "source": []
  }
 ],
 "metadata": {
  "kernelspec": {
   "display_name": "gen",
   "language": "python",
   "name": "python3"
  },
  "language_info": {
   "codemirror_mode": {
    "name": "ipython",
    "version": 3
   },
   "file_extension": ".py",
   "mimetype": "text/x-python",
   "name": "python",
   "nbconvert_exporter": "python",
   "pygments_lexer": "ipython3",
   "version": "3.11.5"
  }
 },
 "nbformat": 4,
 "nbformat_minor": 2
}
